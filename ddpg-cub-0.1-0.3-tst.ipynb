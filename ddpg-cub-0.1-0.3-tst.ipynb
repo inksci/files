{
 "cells": [
  {
   "cell_type": "markdown",
   "metadata": {},
   "source": [
    "> Add Constriction for The Decrease of 'var':\n",
    "    \n",
    "            if self.var > 0.2:\n",
    "                self.var *= 0.99995\n",
    "                \n",
    "> How about the limitation of MAX_EP_STEPS"
   ]
  },
  {
   "cell_type": "code",
   "execution_count": 1,
   "metadata": {},
   "outputs": [],
   "source": [
    "from tqdm import trange"
   ]
  },
  {
   "cell_type": "code",
   "execution_count": 2,
   "metadata": {},
   "outputs": [],
   "source": [
    "from mujoco_py import load_model_from_xml, load_model_from_path, MjSim, MjViewer\n",
    "import math\n",
    "import os\n",
    "import numpy as np\n",
    "\n",
    "from mujoco_py.modder import TextureModder\n",
    "\n",
    "class manipulator():\n",
    "    def __init__(self):\n",
    "        self.is_render = 0\n",
    "        self.model = load_model_from_path(\"multi-links_v2.xml\")\n",
    "        self.state_dim = 10+5+3\n",
    "        self.action_dim = 5\n",
    "\n",
    "    def reset(self):\n",
    "        self.theta = (np.random.rand()-0.5)*2*(30*np.pi/180)\n",
    "        self.r = np.random.rand()*0.2+0.1\n",
    "        self.rx, self.ry, self.rz = 0.14055014,  0.07204237,  0.10578413\n",
    "        self.sim = MjSim(self.model)\n",
    "        if self.is_render: self.viewer = MjViewer(self.sim)\n",
    "        self.qvel=np.zeros(9)\n",
    "\n",
    "        s = np.array( [self.sim.data.qvel[0], self.sim.data.qvel[1], self.sim.data.qvel[2], self.sim.data.qvel[3], self.sim.data.qvel[4],\\\n",
    "         self.sim.data.qpos[0], self.sim.data.qpos[1], self.sim.data.qpos[2], self.sim.data.qpos[3], self.sim.data.qpos[4],\\\n",
    "          self.qvel[0], self.qvel[1], self.qvel[2], self.qvel[3], self.qvel[4], self.rx, self.ry, self.rz] )\n",
    "        # print(\"s: \", s)\n",
    "        return s\n",
    "    def step(self, a):\n",
    "        pass\n",
    "        # print(\"a: \", a)\n",
    "\n",
    "        for i in [0, 1, 2, 3, 4]:\n",
    "            self.qvel[i] += a[i]\n",
    "            if self.qvel[i]>1.0:\n",
    "                self.qvel[i] = 1.0\n",
    "            if self.qvel[i]<-1.0:\n",
    "                self.qvel[i] = -1.0\n",
    "\n",
    "            self.sim.data.qvel[i] = self.qvel[i]        \n",
    "                \n",
    "        # Fix another joints.\n",
    "        for i in [5,6,7,8]:\n",
    "            self.sim.data.qpos[i] = 0\n",
    "            self.sim.data.qvel[i] = 0\n",
    "\n",
    "        self.sim.step()\n",
    "        if self.is_render: self.viewer.render()\n",
    "\n",
    "        # print(\"self.sim.data.sensordata: \", self.sim.data.sensordata.tolist())\n",
    "\n",
    "        dis = np.linalg.norm(self.sim.data.sensordata[3:]-[self.rx, self.ry, self.rz])\n",
    "\n",
    "        s = np.array( [self.sim.data.qvel[0], self.sim.data.qvel[1], self.sim.data.qvel[2], self.sim.data.qvel[3], self.sim.data.qvel[4],\\\n",
    "         self.sim.data.qpos[0], self.sim.data.qpos[1], self.sim.data.qpos[2], self.sim.data.qpos[3], self.sim.data.qpos[4],\\\n",
    "          self.qvel[0], self.qvel[1], self.qvel[2], self.qvel[3], self.qvel[4], self.rx, self.ry, self.rz] )\n",
    "\n",
    "        d = 0\n",
    "\n",
    "        r = -( dis + ( 0.1*sum(abs(s[:5])) + 0.001*sum(abs(s[-8:-3])) )*0.005 )\n",
    "\n",
    "        return s, r, d, 'info'"
   ]
  },
  {
   "cell_type": "code",
   "execution_count": 3,
   "metadata": {},
   "outputs": [],
   "source": [
    "TRAIN = 1"
   ]
  },
  {
   "cell_type": "code",
   "execution_count": 4,
   "metadata": {},
   "outputs": [],
   "source": [
    "\"\"\"\n",
    "View more on the tutorial page: https://morvanzhou.github.io/tutorials/\n",
    "\"\"\"\n",
    "\n",
    "import tensorflow as tf\n",
    "import numpy as np\n",
    "# import manipulator\n",
    "\n",
    "# # # reproducible\n",
    "np.random.seed(1)\n",
    "tf.set_random_seed(1)\n",
    "\n",
    "#####################  hyper parameters  ####################\n",
    "\n",
    "\n",
    "MAX_EP_STEPS = 500\n",
    "LR_A = 0.001    # learning rate for actor\n",
    "LR_C = 0.002    # learning rate for critic\n",
    "GAMMA = 0.9     # reward discount\n",
    "TAU = 0.01      # soft replacement\n",
    "MEMORY_CAPACITY = 10000\n",
    "BATCH_SIZE = 32\n",
    "\n",
    "RENDER = False\n",
    "\n",
    "###############################  DDPG  ####################################\n",
    "\n",
    "class DDPG(object):\n",
    "    def __init__(self, a_dim, s_dim, a_bound,):\n",
    "        self.memory = np.zeros((MEMORY_CAPACITY, s_dim * 2 + a_dim + 1), dtype=np.float32)\n",
    "        self.pointer = 0\n",
    "        self.sess = tf.Session()\n",
    "                \n",
    "        if TRAIN:\n",
    "            self.var = 3.0\n",
    "        else:\n",
    "            self.var = 0.0        \n",
    "            \n",
    "#         self.mean = np.array([0.]*26, dtype=np.float32)\n",
    "        \n",
    "#         self.std = np.array([1.]*26, dtype=np.float32)    \n",
    "        \n",
    "#         self.sum_ai2 = np.array([0.]*26, dtype=np.float32)\n",
    "\n",
    "#         self.mean = np.array( [0.34834658743584485, -0.6318716911473438, -0.5661514854517639, 0.07621472819056746, 0.028013053053513273, 0.20609833036457584, \n",
    "#         -0.3062108267781698, -0.3024539663611043, 0.06093039756831196, 0.033963509642047904, 0.04108029979757066, -0.06115245273286279, \n",
    "#         -0.057278341082980654, -0.01868992182555732, 0.016859964070466027, -0.20114772570077774, 0.4842639725240364, -0.8196236115959136, \n",
    "#         -0.7503603561777605, -0.061486437144056924, 0.07334224875503308, 0.22888182549791716, -0.4030543421278879, -0.36736219691606675, \n",
    "#         -0.03777272967640111, 0.059554004128217874] )\n",
    "#         self.std = np.array( [0.802520082706222, 0.4618768626366726, 0.5814252385481398, 0.9310726271789103, 0.9588982301233124, \n",
    "#         0.5896576086242203, 0.5318602082562012, 0.5521094460520812, 0.668038191808423, 0.6829795959253061, 0.16029570691706538, 0.16024717414553674, \n",
    "#         0.1631756828059499, 0.16218674224861002, 0.1620384051283602, 0.07192591718283593, 0.7040880395342896, 0.4223013893411566, 0.5288619487888918, \n",
    "#         0.8427154097305507, 0.8778329454814024, 0.3436760212947522, 0.3000819712667782, 0.3300498255881239, 0.4264838047763872, 0.42893611608961796] )\n",
    "\n",
    "        \n",
    "        self.a_dim, self.s_dim, self.a_bound = a_dim, s_dim, a_bound,\n",
    "        self.S = tf.placeholder(tf.float32, [None, s_dim], 's')\n",
    "        self.S_ = tf.placeholder(tf.float32, [None, s_dim], 's_')\n",
    "        self.R = tf.placeholder(tf.float32, [None, 1], 'r')\n",
    "\n",
    "        with tf.variable_scope('Actor'):\n",
    "            self.a = self.build_a_nn(self.S, scope='eval', trainable=True)\n",
    "            a_ = self.build_a_nn(self.S_, scope='target', trainable=True)\n",
    "        with tf.variable_scope('Critic'):\n",
    "            # assign self.a = a in memory when calculating q for td_error,\n",
    "            # otherwise the self.a is from Actor when updating Actor\n",
    "            q = self.build_c_nn(self.S, self.a, scope='eval', trainable=True)\n",
    "            q_ = self.build_c_nn(self.S_, a_, scope='target', trainable=True)\n",
    "\n",
    "        # networks parameters\n",
    "        self.ae_params = tf.get_collection(tf.GraphKeys.GLOBAL_VARIABLES, scope='Actor/eval')\n",
    "        self.at_params = tf.get_collection(tf.GraphKeys.GLOBAL_VARIABLES, scope='Actor/target')\n",
    "        self.ce_params = tf.get_collection(tf.GraphKeys.GLOBAL_VARIABLES, scope='Critic/eval')\n",
    "        self.ct_params = tf.get_collection(tf.GraphKeys.GLOBAL_VARIABLES, scope='Critic/target')\n",
    "\n",
    "        # target net replacement\n",
    "        self.soft_replace = [[tf.assign(at, (1-TAU)*at+TAU*ae), tf.assign(ct, (1-TAU)*ct+TAU*ce)]\n",
    "            for at, ae, ct, ce in zip(self.at_params, self.ae_params, self.ct_params, self.ce_params)]\n",
    "\n",
    "        q_target = self.R + GAMMA * q_\n",
    "        # in the feed_dic for the td_error, the self.a should change to actions in memory\n",
    "        td_error = tf.losses.mean_squared_error(labels=(self.R + GAMMA * q_), predictions=q)\n",
    "        \n",
    "        self.ctrain = tf.train.AdamOptimizer(LR_C).minimize(td_error, name=\"adam-ink\", var_list = self.ce_params)\n",
    "\n",
    "        a_loss = - tf.reduce_mean(q)    # maximize the q\n",
    "        \n",
    "        self.atrain = tf.train.AdamOptimizer(LR_A).minimize(a_loss, var_list=self.ae_params)\n",
    "\n",
    "        tf.summary.FileWriter(\"logs/\", self.sess.graph)\n",
    "        \n",
    "        self.saver = tf.train.Saver()\n",
    "#         self.model_path = \"./model-0/\"\n",
    "        \n",
    "        if TRAIN:\n",
    "            self.sess.run(tf.global_variables_initializer())\n",
    "        else:\n",
    "            load_path = self.saver.restore(self.sess, self.model_path)\n",
    "\n",
    "    def choose_action(self, s):\n",
    "        \n",
    "#         self.mean = np.array([-0.30596643686294556, 0.6531972885131836, 0.07150639593601227, \n",
    "#                              -0.4814097285270691, -0.9779564738273621, -0.1355571746826172, \n",
    "#         0.361149400472641, 0.1673995554447174, -0.33002352714538574, -0.4877714216709137, -0.3059367537498474, 0.6378231644630432, \n",
    "#         0.1766030341386795, -0.7159786820411682, -0.9878270626068115, 0.19998057186603546, -0.19998057186603546, 0.09049104899168015, \n",
    "#         -0.052024029195308685, 0.12978997826576233, 0.02930569089949131, -0.1457349807024002, -0.1941746175289154, -0.19394275546073914, \n",
    "#         -0.3071609139442444, 0.654149055480957, 0.07036503404378891, -0.4808672368526459, -0.9798941612243652, -0.13617150485515594, \n",
    "#         0.3624577522277832, 0.1675402969121933, -0.33098533749580383, -0.4897313117980957, -0.3071301579475403, 0.6387059688568115, \n",
    "#         0.17597635090351105, -0.7166529297828674, -0.989827036857605, 0.19998057186603546, \n",
    "#                              -0.19998057186603546, 0.09049104899168015] , dtype=np.float32)\n",
    "        \n",
    "#         self.std = np.array([0.8033351898193359, 0.5680350065231323, 0.8028296232223511, \n",
    "#                             0.789441704750061, 0.08707397431135178, 0.40394535660743713, \n",
    "#         0.28473415970802307, 0.34262776374816895, 0.3564625084400177, 0.2858351767063141, 0.8037617206573486, 0.5734468102455139, \n",
    "#         0.856696605682373, 0.6527989506721497, 0.08459825068712234, 1.9432218323345296e-05, 1.9432218323345296e-05, 0.028779448941349983, \n",
    "#         0.16029109060764313, 0.11157218366861343, 0.17511923611164093, 0.13185659050941467, 0.05517452210187912, 0.05518483370542526, \n",
    "#         0.8039249181747437, 0.568067729473114, 0.8037550449371338, 0.7909086346626282, 0.07530832290649414, 0.4052116870880127, \n",
    "#         0.2851526737213135, 0.3434385359287262, 0.3570743203163147, 0.2858463227748871, 0.8042926788330078, 0.5735509395599365, \n",
    "#         0.8577484488487244, 0.6535053253173828, 0.07212276011705399, 1.9432218323345296e-05, \n",
    "#                             1.9432218323345296e-05, 0.028779448941349983], dtype=np.float32)    \n",
    "\n",
    "\n",
    "\n",
    "\n",
    "#         if TRAIN & ( self.pointer < MEMORY_CAPACITY ):\n",
    "#             return np.clip(np.random.normal([0.]*self.a_dim, self.var), -0.2, 0.2)\n",
    "#         print(\"s 9357: \", s)\n",
    "    \n",
    "#         s -= self.mean[:self.s_dim]\n",
    "#         s /= self.std[:self.s_dim]\n",
    "\n",
    "#         s *= 10.0\n",
    "#         print(\"s 8475: \", s)\n",
    "        a = self.sess.run(self.a, {self.S: s[np.newaxis, :]})[0]\n",
    "#         a = np.clip(np.random.normal(a, self.var), -0.2, 0.2)\n",
    "\n",
    "#         a *= self.std[self.s_dim: self.s_dim + self.a_dim]\n",
    "#         a += self.mean[self.s_dim: self.s_dim + self.a_dim]\n",
    "        \n",
    "#         a /= 10.0\n",
    "#         print(\"a 2634: \", a)\n",
    "        a = np.clip(np.random.normal(a, self.var), -2, 2)\n",
    "#         print(\"a 2844: \", a)\n",
    "        return a\n",
    "\n",
    "    def learn(self):\n",
    "        # soft target replacement\n",
    "        self.sess.run(self.soft_replace)\n",
    "\n",
    "        indices = np.random.choice(MEMORY_CAPACITY, size=BATCH_SIZE)\n",
    "        bt = self.memory[indices, :]\n",
    "        bs = bt[:, :self.s_dim]\n",
    "        ba = bt[:, self.s_dim: self.s_dim + self.a_dim]\n",
    "        br = bt[:, -self.s_dim - 1: -self.s_dim]\n",
    "        bs_ = bt[:, -self.s_dim:]\n",
    "\n",
    "        self.sess.run(self.ctrain, {self.S: bs, self.a: ba, self.R: br, self.S_: bs_})\n",
    "        self.sess.run(self.atrain, {self.S: bs, self.S_: bs_})\n",
    "\n",
    "    def store_transition(self, s, a, r, s_):\n",
    "\n",
    "        trans = np.hstack((s,a,[r],s_))\n",
    "        \n",
    "#         self.mean = (self.mean*self.pointer + trans)/(self.pointer+1)\n",
    "#         self.sum_ai2 += trans**2\n",
    "#         self.std = np.sqrt( ( self.sum_ai2 -(self.pointer+1)*self.mean**2 )/(self.pointer+1) )\n",
    "\n",
    "#         self.mean = np.array([-0.30596643686294556, 0.6531972885131836, 0.07150639593601227, \n",
    "#                              -0.4814097285270691, -0.9779564738273621, -0.1355571746826172, \n",
    "#         0.361149400472641, 0.1673995554447174, -0.33002352714538574, -0.4877714216709137, -0.3059367537498474, 0.6378231644630432, \n",
    "#         0.1766030341386795, -0.7159786820411682, -0.9878270626068115, 0.19998057186603546, -0.19998057186603546, 0.09049104899168015, \n",
    "#         -0.052024029195308685, 0.12978997826576233, 0.02930569089949131, -0.1457349807024002, -0.1941746175289154, -0.19394275546073914, \n",
    "#         -0.3071609139442444, 0.654149055480957, 0.07036503404378891, -0.4808672368526459, -0.9798941612243652, -0.13617150485515594, \n",
    "#         0.3624577522277832, 0.1675402969121933, -0.33098533749580383, -0.4897313117980957, -0.3071301579475403, 0.6387059688568115, \n",
    "#         0.17597635090351105, -0.7166529297828674, -0.989827036857605, 0.19998057186603546, \n",
    "#                              -0.19998057186603546, 0.09049104899168015] , dtype=np.float32)\n",
    "        \n",
    "#         self.std = np.array([0.8033351898193359, 0.5680350065231323, 0.8028296232223511, \n",
    "#                             0.789441704750061, 0.08707397431135178, 0.40394535660743713, \n",
    "#         0.28473415970802307, 0.34262776374816895, 0.3564625084400177, 0.2858351767063141, 0.8037617206573486, 0.5734468102455139, \n",
    "#         0.856696605682373, 0.6527989506721497, 0.08459825068712234, 1.9432218323345296e-05, 1.9432218323345296e-05, 0.028779448941349983, \n",
    "#         0.16029109060764313, 0.11157218366861343, 0.17511923611164093, 0.13185659050941467, 0.05517452210187912, 0.05518483370542526, \n",
    "#         0.8039249181747437, 0.568067729473114, 0.8037550449371338, 0.7909086346626282, 0.07530832290649414, 0.4052116870880127, \n",
    "#         0.2851526737213135, 0.3434385359287262, 0.3570743203163147, 0.2858463227748871, 0.8042926788330078, 0.5735509395599365, \n",
    "#         0.8577484488487244, 0.6535053253173828, 0.07212276011705399, 1.9432218323345296e-05, \n",
    "#                             1.9432218323345296e-05, 0.028779448941349983], dtype=np.float32)    \n",
    "        \n",
    "#         trans -= self.mean\n",
    "#         trans /= self.std\n",
    "        \n",
    "#         trans *= 10.0\n",
    "        \n",
    "        # print(\"trans: \", trans)\n",
    "        index = self.pointer % MEMORY_CAPACITY\n",
    "        self.memory[index, :] = trans\n",
    "        self.pointer += 1\n",
    "        \n",
    "        if TRAIN & ( self.pointer > MEMORY_CAPACITY ):\n",
    "            if self.var > 0.2:\n",
    "                self.var *= 0.99995\n",
    "            self.learn()\n",
    "    def build_a_nn(self, s, scope, trainable):\n",
    "        # Actor DPG\n",
    "        with tf.variable_scope(scope):\n",
    "            s_norm = s# tf.layers.batch_normalization(s, training=self.is_training)\n",
    "            l1 = tf.layers.dense(s_norm, 30, activation = tf.nn.tanh, name = 'l1', trainable = trainable)\n",
    "            a = tf.layers.dense(l1, self.a_dim, activation = tf.nn.tanh, name = 'a', trainable = trainable)     \n",
    "            return tf.multiply(a, self.a_bound, name = \"scaled_a\")  \n",
    "    def build_c_nn(self, s, a, scope, trainable):\n",
    "        # Critic Q-leaning\n",
    "        with tf.variable_scope(scope):\n",
    "            n_l1 = 30\n",
    "            w1_s = tf.get_variable('w1_s', [self.s_dim, n_l1], trainable = trainable)\n",
    "            w1_a = tf.get_variable('w1_a', [self.a_dim, n_l1], trainable = trainable)\n",
    "            b1 = tf.get_variable('b1', [1, n_l1], trainable = trainable)\n",
    "            \n",
    "            s_norm = s# tf.layers.batch_normalization(s, training=self.is_training)\n",
    "            a_norm = a# tf.layers.batch_normalization(a, training=self.is_training)\n",
    "            \n",
    "            linear_output = tf.matmul(s_norm, w1_s) + tf.matmul(a_norm, w1_a) + b1    \n",
    "    \n",
    "            net = tf.nn.tanh( linear_output )\n",
    "\n",
    "            q = tf.layers.dense(net, 1, trainable = trainable)\n",
    "            return q\n",
    "\n",
    "    \n",
    "###############################  training  ####################################\n",
    "\n",
    "env = manipulator()\n",
    "\n",
    "s_dim = env.state_dim\n",
    "a_dim = env.action_dim\n",
    "a_bound = 0.2\n",
    "\n",
    "ddpg = DDPG(a_dim, s_dim, a_bound)\n"
   ]
  },
  {
   "cell_type": "code",
   "execution_count": 5,
   "metadata": {},
   "outputs": [],
   "source": [
    "r_save = []\n",
    "dis_save = []\n"
   ]
  },
  {
   "cell_type": "code",
   "execution_count": null,
   "metadata": {},
   "outputs": [],
   "source": []
  },
  {
   "cell_type": "code",
   "execution_count": 6,
   "metadata": {},
   "outputs": [],
   "source": [
    "MAX_EPISODES = 200"
   ]
  },
  {
   "cell_type": "code",
   "execution_count": 7,
   "metadata": {
    "scrolled": true
   },
   "outputs": [
    {
     "name": "stderr",
     "output_type": "stream",
     "text": [
      "100%|██████████| 200/200 [06:11<00:00,  1.86s/it]\n"
     ]
    }
   ],
   "source": [
    "for i in trange(MAX_EPISODES):\n",
    "#     print(\"i: \", i)\n",
    "    s = env.reset()\n",
    "#     print(\"s: \", s)\n",
    "    ep_reward = 0\n",
    "    dis_record = []\n",
    "    for j in range(MAX_EP_STEPS):\n",
    "        if RENDER:\n",
    "            env.render()\n",
    "\n",
    "        # Add exploration noise\n",
    "        a = ddpg.choose_action(s)\n",
    "        \n",
    "        # print(\"a: \", a)\n",
    "        s_, r, done, info = env.step(a)\n",
    "        # print(\"r: \", r)\n",
    "        ddpg.store_transition(s, a, r, s_)\n",
    "\n",
    "        s = s_\n",
    "        ep_reward += r\n",
    "        dis_save.append( -r )\n",
    "        dis_record.append( -r )\n",
    "        if j == MAX_EP_STEPS-1:\n",
    "#             print(\"dis: \", -r)\n",
    "            \n",
    "            r_save.append(ep_reward)\n",
    "#             print('Episode:', i, ' Reward: %i' % int(ep_reward), 'Explore: %.2f' % ddpg.var, )\n",
    "            break\n"
   ]
  },
  {
   "cell_type": "markdown",
   "metadata": {},
   "source": [
    "np.save(\"memory-cube\", ddpg.memory)"
   ]
  },
  {
   "cell_type": "code",
   "execution_count": 8,
   "metadata": {},
   "outputs": [],
   "source": [
    "import numpy as np\n",
    "\n",
    "%matplotlib inline\n",
    "import matplotlib.pyplot as plt"
   ]
  },
  {
   "cell_type": "code",
   "execution_count": 9,
   "metadata": {},
   "outputs": [],
   "source": [
    "all_reward = r_save[:]"
   ]
  },
  {
   "cell_type": "code",
   "execution_count": 10,
   "metadata": {},
   "outputs": [
    {
     "data": {
      "image/png": "[encoded data removed]",
      "text/plain": [
       "<matplotlib.figure.Figure at 0x7ffa2b905860>"
      ]
     },
     "metadata": {},
     "output_type": "display_data"
    }
   ],
   "source": [
    "fig = plt.figure()\n",
    "ax = fig.add_subplot(111)\n",
    "# ax.plot([1, 2, 3, 4], [10, 20, 25, 30], color='lightblue', linewidth=3) # plot line\n",
    "ax.scatter(range(len(all_reward)), all_reward, color='green', marker='^') # plot points\n",
    "# ax.set_xlim(0, 300)\n",
    "plt.show()"
   ]
  },
  {
   "cell_type": "code",
   "execution_count": 11,
   "metadata": {},
   "outputs": [
    {
     "data": {
      "image/png": "[encoded data removed]",
      "text/plain": [
       "<matplotlib.figure.Figure at 0x7ffa2b872f60>"
      ]
     },
     "metadata": {},
     "output_type": "display_data"
    }
   ],
   "source": [
    "xypoints = dis_record\n",
    "\n",
    "plt.plot(np.array(xypoints).reshape(-1), 'r.', label='--')\n",
    "plt.title('Title')\n",
    "plt.xlabel('X')\n",
    "plt.ylabel('Y')\n",
    "plt.legend(loc='upper right')\n",
    "plt.show()"
   ]
  },
  {
   "cell_type": "markdown",
   "metadata": {},
   "source": [
    "> r = -( dis + ( 0.1*sum(abs(s[:5])) + 0.001*sum(abs(s[-8:-3])) )*0.001 )\n",
    "\n",
    "<img src=\"data:image/png;base64,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\">"
   ]
  },
  {
   "cell_type": "code",
   "execution_count": 17,
   "metadata": {},
   "outputs": [
    {
     "data": {
      "image/png": "[encoded data removed]",
      "text/plain": [
       "<matplotlib.figure.Figure at 0x7f4588337c18>"
      ]
     },
     "metadata": {},
     "output_type": "display_data"
    }
   ],
   "source": [
    "plt.plot(np.array(xypoints).reshape(-1), 'r.', label='--')\n",
    "plt.title('Title')\n",
    "plt.xlabel('X')\n",
    "plt.ylabel('Y')\n",
    "plt.legend(loc='upper right')\n",
    "plt.show()"
   ]
  },
  {
   "cell_type": "code",
   "execution_count": 60,
   "metadata": {},
   "outputs": [],
   "source": [
    "xypoints = dis_save[-1000:-500]"
   ]
  },
  {
   "cell_type": "code",
   "execution_count": 61,
   "metadata": {},
   "outputs": [
    {
     "data": {
      "image/png": "[encoded data removed]",
      "text/plain": [
       "<matplotlib.figure.Figure at 0x7f9a096ca2b0>"
      ]
     },
     "metadata": {},
     "output_type": "display_data"
    }
   ],
   "source": [
    "plt.plot(np.array(xypoints).reshape(-1), 'r.', label='--')\n",
    "plt.title('Title')\n",
    "plt.xlabel('X')\n",
    "plt.ylabel('Y')\n",
    "plt.legend(loc='upper right')\n",
    "plt.show()"
   ]
  },
  {
   "cell_type": "code",
   "execution_count": 62,
   "metadata": {},
   "outputs": [],
   "source": [
    "i=3\n",
    "xypoints = dis_save[-500*i:-500*(i-1)]"
   ]
  },
  {
   "cell_type": "code",
   "execution_count": 63,
   "metadata": {},
   "outputs": [
    {
     "data": {
      "image/png": "[encoded data removed]",
      "text/plain": [
       "<matplotlib.figure.Figure at 0x7f9a096635c0>"
      ]
     },
     "metadata": {},
     "output_type": "display_data"
    }
   ],
   "source": [
    "i=3\n",
    "xypoints = dis_save[-500*i:-500*(i-1)]\n",
    "\n",
    "plt.plot(np.array(xypoints).reshape(-1), 'r.', label='--')\n",
    "plt.title('Title')\n",
    "plt.xlabel('X')\n",
    "plt.ylabel('Y')\n",
    "plt.legend(loc='upper right')\n",
    "plt.show()"
   ]
  },
  {
   "cell_type": "code",
   "execution_count": 64,
   "metadata": {},
   "outputs": [
    {
     "data": {
      "image/png": "[encoded data removed]",
      "text/plain": [
       "<matplotlib.figure.Figure at 0x7f9a09641908>"
      ]
     },
     "metadata": {},
     "output_type": "display_data"
    }
   ],
   "source": [
    "i=4\n",
    "xypoints = dis_save[-500*i:-500*(i-1)]\n",
    "\n",
    "plt.plot(np.array(xypoints).reshape(-1), 'r.', label='--')\n",
    "plt.title('Title')\n",
    "plt.xlabel('X')\n",
    "plt.ylabel('Y')\n",
    "plt.legend(loc='upper right')\n",
    "plt.show()"
   ]
  },
  {
   "cell_type": "code",
   "execution_count": 20,
   "metadata": {},
   "outputs": [],
   "source": [
    "save_path = ddpg.saver.save(ddpg.sess, \"./model-0/\")"
   ]
  },
  {
   "cell_type": "markdown",
   "metadata": {},
   "source": [
    "### Skill Notes for Code:\n",
    "\n",
    "    saver = tf.train.Saver()\n",
    "    model_path = \"./model_path/\"\n",
    "    save_path = saver.save(ddpg.sess, model_path)\n",
    "    load_path = saver.restore(ddpg.sess, model_path)"
   ]
  }
 ],
 "metadata": {
  "kernelspec": {
   "display_name": "Python 3",
   "language": "python",
   "name": "python3"
  },
  "language_info": {
   "codemirror_mode": {
    "name": "ipython",
    "version": 3
   },
   "file_extension": ".py",
   "mimetype": "text/x-python",
   "name": "python",
   "nbconvert_exporter": "python",
   "pygments_lexer": "ipython3",
   "version": "3.5.2"
  }
 },
 "nbformat": 4,
 "nbformat_minor": 2
}
