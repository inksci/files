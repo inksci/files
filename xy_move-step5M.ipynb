{
 "cells": [
  {
   "cell_type": "code",
   "execution_count": 1,
   "metadata": {
    "collapsed": true,
    "deletable": true,
    "editable": true
   },
   "outputs": [],
   "source": [
    "import numpy as np\n",
    "from scipy.linalg import expm\n",
    "import random\n",
    "\n",
    "class move_gym():\n",
    "    def __init__(self):\n",
    "        self.scope = 2.0\n",
    "        self.states = 6\n",
    "        self.actions = 4\n",
    "    def reset(self):\n",
    "\n",
    "        self.obstacle_x = np.random.randint( int(-self.scope*10), int(self.scope*10) )*0.1\n",
    "        self.obstacle_y = np.random.randint( int(-self.scope*10), int(self.scope*10) )*0.1\n",
    "\n",
    "        self.move_x = np.random.randint( int(-self.scope*10), int(self.scope*10) )*0.1\n",
    "        self.move_y = np.random.randint( int(-self.scope*10), int(self.scope*10) )*0.1  \n",
    "        while ( abs(self.obstacle_x-self.move_x) < 1.0 ) & ( abs(self.obstacle_y-self.move_y) < 1.0 ):\n",
    "            self.move_x = np.random.randint( int(-self.scope*10), int(self.scope*10) )*0.1\n",
    "            self.move_y = np.random.randint( int(-self.scope*10), int(self.scope*10) )*0.1      \n",
    "\n",
    "        self.target_x = np.random.randint( int(-self.scope*10), int(self.scope*10) )*0.1\n",
    "        self.target_y = np.random.randint( int(-self.scope*10), int(self.scope*10) )*0.1\n",
    "        while (  ( abs(self.obstacle_x-self.target_x) < 1.0 ) & ( abs(self.obstacle_y-self.target_y) < 1.0 )  ) |\\\n",
    "         (  ( abs(self.move_x-self.target_x) < 1.0 ) & ( abs(self.move_y-self.target_y) < 1.0 )  ):\n",
    "            self.target_x = np.random.randint( int(-self.scope*10), int(self.scope*10) )*0.1\n",
    "            self.target_y = np.random.randint( int(-self.scope*10), int(self.scope*10) )*0.1        \n",
    "\n",
    "\n",
    "        state=np.array([ self.obstacle_x, self.obstacle_y, self.target_x, self.target_y, self.move_x, self.move_y ])\n",
    "        return state #, self.state2img(state)\n",
    "    def step(self, action):\n",
    "        velocity = 0.2\n",
    "        if action==0: # up down right left\n",
    "            self.move_y+=velocity\n",
    "        if action==1:\n",
    "            self.move_y-=velocity\n",
    "        if action==2:\n",
    "            self.move_x+=velocity\n",
    "        if action==3:\n",
    "            self.move_x-=velocity\n",
    "\n",
    "        if self.move_x > (self.scope+1.0):\n",
    "            self.move_x-=velocity\n",
    "        if self.move_x < (-self.scope-1.0):\n",
    "            self.move_x+=velocity\n",
    "        if self.move_y > (self.scope+1.0):\n",
    "            self.move_y-=velocity\n",
    "        if self.move_y < (-self.scope-1.0):\n",
    "            self.move_y+=velocity\n",
    "        \n",
    "        reward = -0.1\n",
    "        done = False\n",
    "        info = \"^_^\"\n",
    "        if (  ( abs(self.obstacle_x-self.move_x) < 1.0 ) & ( abs(self.obstacle_y-self.move_y) < 1.0 )  ): \n",
    "            reward = -1.0 \n",
    "            done = True\n",
    "            info = \"collision\"\n",
    "\n",
    "        elif (  ( abs(self.target_x-self.move_x) < 1.0 ) & ( abs(self.target_y-self.move_y) < 1.0 )  ):\n",
    "            reward = 1.0\n",
    "            done = True\n",
    "            info = \"reach\"\n",
    "\n",
    "        state=np.array([ self.obstacle_x, self.obstacle_y, self.target_x, self.target_y, self.move_x, self.move_y ])\n",
    "\n",
    "        return state, reward,done,info\n",
    "    def state2img(self, state):\n",
    "        img = np.zeros([84,84,3], dtype=np.uint8)\n",
    "        ( img[ int(42-(self.obstacle_y+0.5)*10):int(42-(self.obstacle_y-0.5)*10), int((self.obstacle_x-0.5)*10+42):int((self.obstacle_x+0.5)*10+42),2 ] ).fill(255)\n",
    "        ( img[ int(42-(self.target_y+0.5)*10):int(42-(self.target_y-0.5)*10), int((self.target_x-0.5)*10+42):int((self.target_x+0.5)*10+42),1 ] ).fill(255)\n",
    "        ( img[ int(42-(self.move_y+0.5)*10):int(42-(self.move_y-0.5)*10), int((self.move_x-0.5)*10+42):int((self.move_x+0.5)*10+42),0 ] ).fill(255)\n",
    "        return img\n"
   ]
  },
  {
   "cell_type": "code",
   "execution_count": 2,
   "metadata": {
    "collapsed": false,
    "deletable": true,
    "editable": true
   },
   "outputs": [
    {
     "name": "stdout",
     "output_type": "stream",
     "text": [
      "create new network weights ...\n"
     ]
    }
   ],
   "source": [
    "import tensorflow as tf\n",
    "import numpy as np\n",
    "from numpy import *\n",
    "import random\n",
    "from collections import deque\n",
    "\n",
    "from tqdm import trange\n",
    "\n",
    "# Hyper Parameters for DQN\n",
    "GAMMA = 0.9 # discount factor for target Q\n",
    "INITIAL_EPSILON = 0.5 # starting value of epsilon\n",
    "FINAL_EPSILON = 0.01 # final value of epsilon\n",
    "REPLAY_SIZE = 10000 # experience replay buffer size\n",
    "BATCH_SIZE = 32 # size of minibatch\n",
    "\n",
    "class DQN():\n",
    "    # DQN Agent\n",
    "    def __init__(self, env):\n",
    "        # init experience replay\n",
    "        self.replay_buffer = deque()\n",
    "        # init. some parameters\n",
    "        self.epsilon = INITIAL_EPSILON\n",
    "        # self.state_dim = env.observation_space.shape[0]\n",
    "        self.state_dim = 6\n",
    "\n",
    "        # self.action_dim = env.action_space.n\n",
    "        self.action_dim = 4\n",
    "\n",
    "        self.create_Q_network()\n",
    "        self.create_training_method()\n",
    "\n",
    "        # Init session\n",
    "        self.session = tf.InteractiveSession()\n",
    "        self.session.run(tf.global_variables_initializer())\n",
    "\n",
    "    def create_Q_network(self):\n",
    "        # # a: create new network weights\n",
    "        print \"create new network weights ...\"\n",
    "        num_hid = 200\n",
    "        self.W1 = self.weight_variable([self.state_dim,num_hid])\n",
    "        self.b1 = self.bias_variable([num_hid])\n",
    "        self.W2 = self.weight_variable([num_hid,num_hid])\n",
    "        self.b2 = self.bias_variable([num_hid])\n",
    "        self.W3 = self.weight_variable([num_hid,self.action_dim])\n",
    "        self.b3= self.bias_variable([self.action_dim])\n",
    "\n",
    "        # # # b: restore old network weights\n",
    "        # print \"restore old network weights ...\"\n",
    "        # self.W1, self.b1, self.W2, self.b2, self.W3, self.b3 = self.restore_wb()\n",
    "\n",
    "\n",
    "        # input layer\n",
    "        self.state_input = tf.placeholder(\"float\",[None,self.state_dim])\n",
    "        # hidden layers\n",
    "        h_layer = tf.nn.relu(tf.matmul(self.state_input,self.W1) + self.b1)\n",
    "        h_layer02 = tf.nn.relu(tf.matmul(h_layer,self.W2) + self.b2)\n",
    "        # Q Value layer\n",
    "        self.Q_value = tf.matmul(h_layer02,self.W3) + self.b3\n",
    "\n",
    "    def create_training_method(self):\n",
    "        self.action_input = tf.placeholder(\"float\",[None,self.action_dim]) # one hot presentation\n",
    "        self.y_input = tf.placeholder(\"float\",[None])\n",
    "        Q_action = tf.reduce_sum(tf.multiply(self.Q_value,self.action_input),reduction_indices = 1)\n",
    "        self.cost = tf.reduce_mean(tf.square(self.y_input - Q_action))\n",
    "        self.optimizer = tf.train.AdamOptimizer(0.0001).minimize(self.cost)\n",
    "\n",
    "    def perceive(self,state,action,reward,next_state,done):\n",
    "        one_hot_action = np.zeros(self.action_dim)\n",
    "        one_hot_action[action] = 1\n",
    "        self.replay_buffer.append((state,one_hot_action,reward,next_state,done))\n",
    "        if len(self.replay_buffer) > REPLAY_SIZE:\n",
    "            self.replay_buffer.popleft()\n",
    "\n",
    "        if len(self.replay_buffer) > BATCH_SIZE:\n",
    "            self.train_Q_network()\n",
    "\n",
    "    def train_Q_network(self):\n",
    "        # Step 1: obtain random minibatch from replay memory\n",
    "        minibatch = random.sample(self.replay_buffer,BATCH_SIZE)\n",
    "        state_batch = [data[0] for data in minibatch]\n",
    "        action_batch = [data[1] for data in minibatch]\n",
    "        reward_batch = [data[2] for data in minibatch]\n",
    "        next_state_batch = [data[3] for data in minibatch]\n",
    "\n",
    "        # Step 2: calculate y\n",
    "        y_batch = []\n",
    "        Q_value_batch = self.Q_value.eval(feed_dict={self.state_input:next_state_batch})\n",
    "        for i in range(0,BATCH_SIZE):\n",
    "            done = minibatch[i][4]\n",
    "            if done:\n",
    "                y_batch.append(reward_batch[i])\n",
    "            else :\n",
    "                y_batch.append(reward_batch[i] + GAMMA * np.max(Q_value_batch[i]))\n",
    "\n",
    "        self.optimizer.run(feed_dict={\n",
    "          self.y_input:y_batch,\n",
    "          self.action_input:action_batch,\n",
    "          self.state_input:state_batch\n",
    "          })\n",
    "\n",
    "    def egreedy_action(self,state):\n",
    "        Q_value = self.Q_value.eval(feed_dict = {\n",
    "          self.state_input:[state]\n",
    "          })[0]\n",
    "        if random.random() < 0.5:\n",
    "            return random.randint(0,self.action_dim - 1)\n",
    "        else:\n",
    "            return np.argmax(Q_value)\n",
    "\n",
    "    def obtain_wb(self):\n",
    "        W1=self.session.run(self.W1)\n",
    "        b1=self.session.run(self.b1)\n",
    "        W2=self.session.run(self.W2)\n",
    "        b2=self.session.run(self.b2)\n",
    "        W3=self.session.run(self.W3)\n",
    "        b3=self.session.run(self.b3)\n",
    "        return W1, b1, W2, b2, W3, b3\n",
    "\n",
    "    def restore_wb(self):\n",
    "        W1 = np.load( \"W1.npy\" )\n",
    "        W2 = np.load( \"W2.npy\" )\n",
    "        W3 = np.load( \"W3.npy\" )\n",
    "\n",
    "        b1 = np.load( \"b1.npy\" )\n",
    "        b2 = np.load( \"b2.npy\" )\n",
    "        b3 = np.load( \"b3.npy\" )        \n",
    "        return tf.Variable(W1), tf.Variable(b1), tf.Variable(W2), tf.Variable(b2), tf.Variable(W3), tf.Variable(b3)\n",
    "    def use_nn(self,state):\n",
    "        return self.Q_value.eval(feed_dict = {\n",
    "          self.state_input:[state]\n",
    "          })\n",
    "\n",
    "    def action(self,state):\n",
    "        return np.argmax(self.Q_value.eval(feed_dict = {\n",
    "          self.state_input:[state]\n",
    "          })[0])\n",
    "\n",
    "    def weight_variable(self,shape):\n",
    "        initial = tf.truncated_normal(shape)\n",
    "        return tf.Variable(initial)\n",
    "\n",
    "    def bias_variable(self,shape):\n",
    "        initial = tf.constant(0.01, shape = shape)\n",
    "        return tf.Variable(initial)\n",
    "    \n",
    "    \n",
    "# Hyper Parameters\n",
    "STEP = 50 # Step limitation in an episode\n",
    "TEST = 10 # The number of experiment for test\n",
    "\n",
    "# initialize env and agent\n",
    "env = move_gym()\n",
    "agent = DQN(env)\n",
    "\n",
    "all_episode = 0\n",
    "all_reward = []"
   ]
  },
  {
   "cell_type": "code",
   "execution_count": 3,
   "metadata": {
    "collapsed": false,
    "deletable": true,
    "editable": true
   },
   "outputs": [
    {
     "name": "stderr",
     "output_type": "stream",
     "text": [
      "  0%|          | 2/50000 [00:00<2:34:26,  5.40it/s]"
     ]
    },
    {
     "name": "stdout",
     "output_type": "stream",
     "text": [
      "episode:  0 Evaluation Average Reward: -3.84\n"
     ]
    },
    {
     "name": "stderr",
     "output_type": "stream",
     "text": [
      "  1%|          | 502/50000 [01:07<2:28:10,  5.57it/s]"
     ]
    },
    {
     "name": "stdout",
     "output_type": "stream",
     "text": [
      "episode:  500 Evaluation Average Reward: -4.26\n"
     ]
    },
    {
     "name": "stderr",
     "output_type": "stream",
     "text": [
      "  2%|▏         | 1001/50000 [02:17<3:06:37,  4.38it/s]"
     ]
    },
    {
     "name": "stdout",
     "output_type": "stream",
     "text": [
      "episode:  1000 Evaluation Average Reward: -3.65\n"
     ]
    },
    {
     "name": "stderr",
     "output_type": "stream",
     "text": [
      "  3%|▎         | 1501/50000 [03:30<2:42:36,  4.97it/s]"
     ]
    },
    {
     "name": "stdout",
     "output_type": "stream",
     "text": [
      "episode:  1500 Evaluation Average Reward: -4.7\n"
     ]
    },
    {
     "name": "stderr",
     "output_type": "stream",
     "text": [
      "  4%|▍         | 2002/50000 [04:43<2:40:58,  4.97it/s]"
     ]
    },
    {
     "name": "stdout",
     "output_type": "stream",
     "text": [
      "episode:  2000 Evaluation Average Reward: -4.67\n"
     ]
    },
    {
     "name": "stderr",
     "output_type": "stream",
     "text": [
      "  5%|▌         | 2502/50000 [05:54<2:13:44,  5.92it/s]"
     ]
    },
    {
     "name": "stdout",
     "output_type": "stream",
     "text": [
      "episode:  2500 Evaluation Average Reward: -3.68\n"
     ]
    },
    {
     "name": "stderr",
     "output_type": "stream",
     "text": [
      "  6%|▌         | 3002/50000 [07:06<2:59:42,  4.36it/s]"
     ]
    },
    {
     "name": "stdout",
     "output_type": "stream",
     "text": [
      "episode:  3000 Evaluation Average Reward: -4.11\n"
     ]
    },
    {
     "name": "stderr",
     "output_type": "stream",
     "text": [
      "  7%|▋         | 3502/50000 [08:18<2:13:27,  5.81it/s]"
     ]
    },
    {
     "name": "stdout",
     "output_type": "stream",
     "text": [
      "episode:  3500 Evaluation Average Reward: -4.03\n"
     ]
    },
    {
     "name": "stderr",
     "output_type": "stream",
     "text": [
      "  8%|▊         | 4002/50000 [09:25<2:13:49,  5.73it/s]"
     ]
    },
    {
     "name": "stdout",
     "output_type": "stream",
     "text": [
      "episode:  4000 Evaluation Average Reward: -3.37\n"
     ]
    },
    {
     "name": "stderr",
     "output_type": "stream",
     "text": [
      "  9%|▉         | 4502/50000 [10:32<2:24:12,  5.26it/s]"
     ]
    },
    {
     "name": "stdout",
     "output_type": "stream",
     "text": [
      "episode:  4500 Evaluation Average Reward: -3.87\n"
     ]
    },
    {
     "name": "stderr",
     "output_type": "stream",
     "text": [
      " 10%|█         | 5002/50000 [11:43<2:29:33,  5.01it/s]"
     ]
    },
    {
     "name": "stdout",
     "output_type": "stream",
     "text": [
      "episode:  5000 Evaluation Average Reward: -4.03\n"
     ]
    },
    {
     "name": "stderr",
     "output_type": "stream",
     "text": [
      " 11%|█         | 5501/50000 [12:51<2:13:37,  5.55it/s]"
     ]
    },
    {
     "name": "stdout",
     "output_type": "stream",
     "text": [
      "episode:  5500 Evaluation Average Reward: -4.02\n"
     ]
    },
    {
     "name": "stderr",
     "output_type": "stream",
     "text": [
      " 12%|█▏        | 6004/50000 [13:59<1:47:25,  6.83it/s]"
     ]
    },
    {
     "name": "stdout",
     "output_type": "stream",
     "text": [
      "episode:  6000 Evaluation Average Reward: -4.44\n"
     ]
    },
    {
     "name": "stderr",
     "output_type": "stream",
     "text": [
      " 13%|█▎        | 6502/50000 [15:09<2:26:43,  4.94it/s]"
     ]
    },
    {
     "name": "stdout",
     "output_type": "stream",
     "text": [
      "episode:  6500 Evaluation Average Reward: -3.71\n"
     ]
    },
    {
     "name": "stderr",
     "output_type": "stream",
     "text": [
      " 14%|█▍        | 7002/50000 [16:19<2:07:00,  5.64it/s]"
     ]
    },
    {
     "name": "stdout",
     "output_type": "stream",
     "text": [
      "episode:  7000 Evaluation Average Reward: -3.35\n"
     ]
    },
    {
     "name": "stderr",
     "output_type": "stream",
     "text": [
      " 15%|█▌        | 7502/50000 [17:27<2:18:00,  5.13it/s]"
     ]
    },
    {
     "name": "stdout",
     "output_type": "stream",
     "text": [
      "episode:  7500 Evaluation Average Reward: -5.0\n"
     ]
    },
    {
     "name": "stderr",
     "output_type": "stream",
     "text": [
      " 16%|█▌        | 8002/50000 [18:35<1:56:11,  6.02it/s]"
     ]
    },
    {
     "name": "stdout",
     "output_type": "stream",
     "text": [
      "episode:  8000 Evaluation Average Reward: -4.22\n"
     ]
    },
    {
     "name": "stderr",
     "output_type": "stream",
     "text": [
      " 17%|█▋        | 8502/50000 [19:46<1:55:37,  5.98it/s]"
     ]
    },
    {
     "name": "stdout",
     "output_type": "stream",
     "text": [
      "episode:  8500 Evaluation Average Reward: -4.63\n"
     ]
    },
    {
     "name": "stderr",
     "output_type": "stream",
     "text": [
      " 18%|█▊        | 9002/50000 [20:53<1:53:42,  6.01it/s]"
     ]
    },
    {
     "name": "stdout",
     "output_type": "stream",
     "text": [
      "episode:  9000 Evaluation Average Reward: -4.11\n"
     ]
    },
    {
     "name": "stderr",
     "output_type": "stream",
     "text": [
      " 19%|█▉        | 9504/50000 [22:05<1:37:24,  6.93it/s]"
     ]
    },
    {
     "name": "stdout",
     "output_type": "stream",
     "text": [
      "episode:  9500 Evaluation Average Reward: -3.33\n"
     ]
    },
    {
     "name": "stderr",
     "output_type": "stream",
     "text": [
      " 20%|██        | 10001/50000 [23:12<2:23:55,  4.63it/s]"
     ]
    },
    {
     "name": "stdout",
     "output_type": "stream",
     "text": [
      "episode:  10000 Evaluation Average Reward: -4.69\n"
     ]
    },
    {
     "name": "stderr",
     "output_type": "stream",
     "text": [
      " 21%|██        | 10502/50000 [24:26<2:18:08,  4.77it/s]"
     ]
    },
    {
     "name": "stdout",
     "output_type": "stream",
     "text": [
      "episode:  10500 Evaluation Average Reward: -4.48\n"
     ]
    },
    {
     "name": "stderr",
     "output_type": "stream",
     "text": [
      " 22%|██▏       | 11002/50000 [25:38<2:33:14,  4.24it/s]"
     ]
    },
    {
     "name": "stdout",
     "output_type": "stream",
     "text": [
      "episode:  11000 Evaluation Average Reward: -5.0\n"
     ]
    },
    {
     "name": "stderr",
     "output_type": "stream",
     "text": [
      " 23%|██▎       | 11502/50000 [26:51<2:09:42,  4.95it/s]"
     ]
    },
    {
     "name": "stdout",
     "output_type": "stream",
     "text": [
      "episode:  11500 Evaluation Average Reward: -4.64\n"
     ]
    },
    {
     "name": "stderr",
     "output_type": "stream",
     "text": [
      " 24%|██▍       | 12003/50000 [28:04<2:05:45,  5.04it/s]"
     ]
    },
    {
     "name": "stdout",
     "output_type": "stream",
     "text": [
      "episode:  12000 Evaluation Average Reward: -4.08\n"
     ]
    },
    {
     "name": "stderr",
     "output_type": "stream",
     "text": [
      " 25%|██▌       | 12502/50000 [29:17<2:08:17,  4.87it/s]"
     ]
    },
    {
     "name": "stdout",
     "output_type": "stream",
     "text": [
      "episode:  12500 Evaluation Average Reward: -5.0\n"
     ]
    },
    {
     "name": "stderr",
     "output_type": "stream",
     "text": [
      " 26%|██▌       | 13002/50000 [30:31<2:02:30,  5.03it/s]"
     ]
    },
    {
     "name": "stdout",
     "output_type": "stream",
     "text": [
      "episode:  13000 Evaluation Average Reward: -4.1\n"
     ]
    },
    {
     "name": "stderr",
     "output_type": "stream",
     "text": [
      " 27%|██▋       | 13502/50000 [31:45<2:20:31,  4.33it/s]"
     ]
    },
    {
     "name": "stdout",
     "output_type": "stream",
     "text": [
      "episode:  13500 Evaluation Average Reward: -3.36\n"
     ]
    },
    {
     "name": "stderr",
     "output_type": "stream",
     "text": [
      " 28%|██▊       | 14002/50000 [33:00<1:48:16,  5.54it/s]"
     ]
    },
    {
     "name": "stdout",
     "output_type": "stream",
     "text": [
      "episode:  14000 Evaluation Average Reward: -4.46\n"
     ]
    },
    {
     "name": "stderr",
     "output_type": "stream",
     "text": [
      " 29%|██▉       | 14502/50000 [34:14<1:52:09,  5.27it/s]"
     ]
    },
    {
     "name": "stdout",
     "output_type": "stream",
     "text": [
      "episode:  14500 Evaluation Average Reward: -5.0\n"
     ]
    },
    {
     "name": "stderr",
     "output_type": "stream",
     "text": [
      " 30%|███       | 15002/50000 [35:28<1:37:37,  5.97it/s]"
     ]
    },
    {
     "name": "stdout",
     "output_type": "stream",
     "text": [
      "episode:  15000 Evaluation Average Reward: -3.37\n"
     ]
    },
    {
     "name": "stderr",
     "output_type": "stream",
     "text": [
      " 31%|███       | 15501/50000 [36:45<2:24:43,  3.97it/s]"
     ]
    },
    {
     "name": "stdout",
     "output_type": "stream",
     "text": [
      "episode:  15500 Evaluation Average Reward: -3.68\n"
     ]
    },
    {
     "name": "stderr",
     "output_type": "stream",
     "text": [
      " 32%|███▏      | 16001/50000 [37:59<1:31:53,  6.17it/s]"
     ]
    },
    {
     "name": "stdout",
     "output_type": "stream",
     "text": [
      "episode:  16000 Evaluation Average Reward: -3.82\n"
     ]
    },
    {
     "name": "stderr",
     "output_type": "stream",
     "text": [
      " 33%|███▎      | 16501/50000 [39:17<1:54:20,  4.88it/s]"
     ]
    },
    {
     "name": "stdout",
     "output_type": "stream",
     "text": [
      "episode:  16500 Evaluation Average Reward: -4.63\n"
     ]
    },
    {
     "name": "stderr",
     "output_type": "stream",
     "text": [
      " 34%|███▍      | 17001/50000 [40:32<1:19:49,  6.89it/s]"
     ]
    },
    {
     "name": "stdout",
     "output_type": "stream",
     "text": [
      "episode:  17000 Evaluation Average Reward: -2.86\n"
     ]
    },
    {
     "name": "stderr",
     "output_type": "stream",
     "text": [
      " 35%|███▌      | 17502/50000 [41:47<1:58:54,  4.55it/s]"
     ]
    },
    {
     "name": "stdout",
     "output_type": "stream",
     "text": [
      "episode:  17500 Evaluation Average Reward: -4.41\n"
     ]
    },
    {
     "name": "stderr",
     "output_type": "stream",
     "text": [
      " 36%|███▌      | 18002/50000 [43:01<1:49:48,  4.86it/s]"
     ]
    },
    {
     "name": "stdout",
     "output_type": "stream",
     "text": [
      "episode:  18000 Evaluation Average Reward: -4.41\n"
     ]
    },
    {
     "name": "stderr",
     "output_type": "stream",
     "text": [
      " 37%|███▋      | 18502/50000 [44:16<1:30:18,  5.81it/s]"
     ]
    },
    {
     "name": "stdout",
     "output_type": "stream",
     "text": [
      "episode:  18500 Evaluation Average Reward: -4.67\n"
     ]
    },
    {
     "name": "stderr",
     "output_type": "stream",
     "text": [
      " 38%|███▊      | 19002/50000 [45:32<2:06:25,  4.09it/s]"
     ]
    },
    {
     "name": "stdout",
     "output_type": "stream",
     "text": [
      "episode:  19000 Evaluation Average Reward: -4.36\n"
     ]
    },
    {
     "name": "stderr",
     "output_type": "stream",
     "text": [
      " 39%|███▉      | 19503/50000 [46:51<1:47:02,  4.75it/s]"
     ]
    },
    {
     "name": "stdout",
     "output_type": "stream",
     "text": [
      "episode:  19500 Evaluation Average Reward: -4.08\n"
     ]
    },
    {
     "name": "stderr",
     "output_type": "stream",
     "text": [
      " 40%|████      | 20002/50000 [48:10<1:48:33,  4.61it/s]"
     ]
    },
    {
     "name": "stdout",
     "output_type": "stream",
     "text": [
      "episode:  20000 Evaluation Average Reward: -3.38\n"
     ]
    },
    {
     "name": "stderr",
     "output_type": "stream",
     "text": [
      " 41%|████      | 20502/50000 [49:27<1:53:38,  4.33it/s]"
     ]
    },
    {
     "name": "stdout",
     "output_type": "stream",
     "text": [
      "episode:  20500 Evaluation Average Reward: -4.62\n"
     ]
    },
    {
     "name": "stderr",
     "output_type": "stream",
     "text": [
      " 42%|████▏     | 21001/50000 [50:42<2:02:57,  3.93it/s]"
     ]
    },
    {
     "name": "stdout",
     "output_type": "stream",
     "text": [
      "episode:  21000 Evaluation Average Reward: -4.4\n"
     ]
    },
    {
     "name": "stderr",
     "output_type": "stream",
     "text": [
      " 43%|████▎     | 21502/50000 [52:02<1:36:42,  4.91it/s]"
     ]
    },
    {
     "name": "stdout",
     "output_type": "stream",
     "text": [
      "episode:  21500 Evaluation Average Reward: -4.68\n"
     ]
    },
    {
     "name": "stderr",
     "output_type": "stream",
     "text": [
      " 44%|████▍     | 22001/50000 [53:22<1:50:45,  4.21it/s]"
     ]
    },
    {
     "name": "stdout",
     "output_type": "stream",
     "text": [
      "episode:  22000 Evaluation Average Reward: -5.0\n"
     ]
    },
    {
     "name": "stderr",
     "output_type": "stream",
     "text": [
      " 45%|████▌     | 22501/50000 [54:43<1:20:00,  5.73it/s]"
     ]
    },
    {
     "name": "stdout",
     "output_type": "stream",
     "text": [
      "episode:  22500 Evaluation Average Reward: -4.08\n"
     ]
    },
    {
     "name": "stderr",
     "output_type": "stream",
     "text": [
      " 46%|████▌     | 23002/50000 [56:03<1:26:24,  5.21it/s]"
     ]
    },
    {
     "name": "stdout",
     "output_type": "stream",
     "text": [
      "episode:  23000 Evaluation Average Reward: -4.6\n"
     ]
    },
    {
     "name": "stderr",
     "output_type": "stream",
     "text": [
      " 47%|████▋     | 23502/50000 [57:22<1:45:31,  4.19it/s]"
     ]
    },
    {
     "name": "stdout",
     "output_type": "stream",
     "text": [
      "episode:  23500 Evaluation Average Reward: -4.05\n"
     ]
    },
    {
     "name": "stderr",
     "output_type": "stream",
     "text": [
      " 48%|████▊     | 24001/50000 [58:41<1:13:44,  5.88it/s]"
     ]
    },
    {
     "name": "stdout",
     "output_type": "stream",
     "text": [
      "episode:  24000 Evaluation Average Reward: -4.09\n"
     ]
    },
    {
     "name": "stderr",
     "output_type": "stream",
     "text": [
      " 49%|████▉     | 24503/50000 [1:00:02<1:12:17,  5.88it/s]"
     ]
    },
    {
     "name": "stdout",
     "output_type": "stream",
     "text": [
      "episode:  24500 Evaluation Average Reward: -3.51\n"
     ]
    },
    {
     "name": "stderr",
     "output_type": "stream",
     "text": [
      " 50%|█████     | 25001/50000 [1:01:21<1:55:55,  3.59it/s]"
     ]
    },
    {
     "name": "stdout",
     "output_type": "stream",
     "text": [
      "episode:  25000 Evaluation Average Reward: -4.44\n"
     ]
    },
    {
     "name": "stderr",
     "output_type": "stream",
     "text": [
      " 51%|█████     | 25501/50000 [1:02:42<1:13:53,  5.53it/s]"
     ]
    },
    {
     "name": "stdout",
     "output_type": "stream",
     "text": [
      "episode:  25500 Evaluation Average Reward: -3.29\n"
     ]
    },
    {
     "name": "stderr",
     "output_type": "stream",
     "text": [
      " 52%|█████▏    | 26001/50000 [1:04:02<1:55:29,  3.46it/s]"
     ]
    },
    {
     "name": "stdout",
     "output_type": "stream",
     "text": [
      "episode:  26000 Evaluation Average Reward: -5.0\n"
     ]
    },
    {
     "name": "stderr",
     "output_type": "stream",
     "text": [
      " 53%|█████▎    | 26501/50000 [1:05:23<1:15:41,  5.17it/s]"
     ]
    },
    {
     "name": "stdout",
     "output_type": "stream",
     "text": [
      "episode:  26500 Evaluation Average Reward: -3.82\n"
     ]
    },
    {
     "name": "stderr",
     "output_type": "stream",
     "text": [
      " 54%|█████▍    | 27001/50000 [1:06:49<1:38:47,  3.88it/s]"
     ]
    },
    {
     "name": "stdout",
     "output_type": "stream",
     "text": [
      "episode:  27000 Evaluation Average Reward: -3.68\n"
     ]
    },
    {
     "name": "stderr",
     "output_type": "stream",
     "text": [
      " 55%|█████▌    | 27501/50000 [1:08:13<1:20:04,  4.68it/s]"
     ]
    },
    {
     "name": "stdout",
     "output_type": "stream",
     "text": [
      "episode:  27500 Evaluation Average Reward: -3.84\n"
     ]
    },
    {
     "name": "stderr",
     "output_type": "stream",
     "text": [
      " 56%|█████▌    | 28001/50000 [1:09:38<1:18:25,  4.67it/s]"
     ]
    },
    {
     "name": "stdout",
     "output_type": "stream",
     "text": [
      "episode:  28000 Evaluation Average Reward: -3.83\n"
     ]
    },
    {
     "name": "stderr",
     "output_type": "stream",
     "text": [
      " 57%|█████▋    | 28501/50000 [1:10:59<1:18:31,  4.56it/s]"
     ]
    },
    {
     "name": "stdout",
     "output_type": "stream",
     "text": [
      "episode:  28500 Evaluation Average Reward: -4.52\n"
     ]
    },
    {
     "name": "stderr",
     "output_type": "stream",
     "text": [
      " 58%|█████▊    | 29001/50000 [1:12:23<1:18:07,  4.48it/s]"
     ]
    },
    {
     "name": "stdout",
     "output_type": "stream",
     "text": [
      "episode:  29000 Evaluation Average Reward: -4.45\n"
     ]
    },
    {
     "name": "stderr",
     "output_type": "stream",
     "text": [
      " 59%|█████▉    | 29501/50000 [1:13:46<1:33:45,  3.64it/s]"
     ]
    },
    {
     "name": "stdout",
     "output_type": "stream",
     "text": [
      "episode:  29500 Evaluation Average Reward: -4.41\n"
     ]
    },
    {
     "name": "stderr",
     "output_type": "stream",
     "text": [
      " 60%|██████    | 30001/50000 [1:15:11<1:23:19,  4.00it/s]"
     ]
    },
    {
     "name": "stdout",
     "output_type": "stream",
     "text": [
      "episode:  30000 Evaluation Average Reward: -3.58\n"
     ]
    },
    {
     "name": "stderr",
     "output_type": "stream",
     "text": [
      " 61%|██████    | 30501/50000 [1:16:36<59:51,  5.43it/s]  "
     ]
    },
    {
     "name": "stdout",
     "output_type": "stream",
     "text": [
      "episode:  30500 Evaluation Average Reward: -4.47\n"
     ]
    },
    {
     "name": "stderr",
     "output_type": "stream",
     "text": [
      " 62%|██████▏   | 31001/50000 [1:17:57<1:04:05,  4.94it/s]"
     ]
    },
    {
     "name": "stdout",
     "output_type": "stream",
     "text": [
      "episode:  31000 Evaluation Average Reward: -4.07\n"
     ]
    },
    {
     "name": "stderr",
     "output_type": "stream",
     "text": [
      " 63%|██████▎   | 31501/50000 [1:19:24<56:04,  5.50it/s]  "
     ]
    },
    {
     "name": "stdout",
     "output_type": "stream",
     "text": [
      "episode:  31500 Evaluation Average Reward: -3.73\n"
     ]
    },
    {
     "name": "stderr",
     "output_type": "stream",
     "text": [
      " 64%|██████▍   | 32001/50000 [1:20:46<1:22:00,  3.66it/s]"
     ]
    },
    {
     "name": "stdout",
     "output_type": "stream",
     "text": [
      "episode:  32000 Evaluation Average Reward: -4.25\n"
     ]
    },
    {
     "name": "stderr",
     "output_type": "stream",
     "text": [
      " 65%|██████▌   | 32502/50000 [1:22:14<1:07:10,  4.34it/s]"
     ]
    },
    {
     "name": "stdout",
     "output_type": "stream",
     "text": [
      "episode:  32500 Evaluation Average Reward: -4.15\n"
     ]
    },
    {
     "name": "stderr",
     "output_type": "stream",
     "text": [
      " 66%|██████▌   | 33001/50000 [1:23:39<1:09:11,  4.09it/s]"
     ]
    },
    {
     "name": "stdout",
     "output_type": "stream",
     "text": [
      "episode:  33000 Evaluation Average Reward: -3.66\n"
     ]
    },
    {
     "name": "stderr",
     "output_type": "stream",
     "text": [
      " 67%|██████▋   | 33501/50000 [1:25:01<1:14:26,  3.69it/s]"
     ]
    },
    {
     "name": "stdout",
     "output_type": "stream",
     "text": [
      "episode:  33500 Evaluation Average Reward: -4.08\n"
     ]
    },
    {
     "name": "stderr",
     "output_type": "stream",
     "text": [
      " 68%|██████▊   | 34001/50000 [1:26:28<1:16:19,  3.49it/s]"
     ]
    },
    {
     "name": "stdout",
     "output_type": "stream",
     "text": [
      "episode:  34000 Evaluation Average Reward: -5.0\n"
     ]
    },
    {
     "name": "stderr",
     "output_type": "stream",
     "text": [
      " 69%|██████▉   | 34503/50000 [1:27:54<43:54,  5.88it/s]  "
     ]
    },
    {
     "name": "stdout",
     "output_type": "stream",
     "text": [
      "episode:  34500 Evaluation Average Reward: -3.88\n"
     ]
    },
    {
     "name": "stderr",
     "output_type": "stream",
     "text": [
      " 70%|███████   | 35001/50000 [1:29:19<1:05:42,  3.80it/s]"
     ]
    },
    {
     "name": "stdout",
     "output_type": "stream",
     "text": [
      "episode:  35000 Evaluation Average Reward: -3.26\n"
     ]
    },
    {
     "name": "stderr",
     "output_type": "stream",
     "text": [
      " 71%|███████   | 35501/50000 [1:30:44<1:10:37,  3.42it/s]"
     ]
    },
    {
     "name": "stdout",
     "output_type": "stream",
     "text": [
      "episode:  35500 Evaluation Average Reward: -4.44\n"
     ]
    },
    {
     "name": "stderr",
     "output_type": "stream",
     "text": [
      " 72%|███████▏  | 36003/50000 [1:32:09<33:03,  7.06it/s]  "
     ]
    },
    {
     "name": "stdout",
     "output_type": "stream",
     "text": [
      "episode:  36000 Evaluation Average Reward: -3.33\n"
     ]
    },
    {
     "name": "stderr",
     "output_type": "stream",
     "text": [
      " 73%|███████▎  | 36501/50000 [1:33:37<1:01:21,  3.67it/s]"
     ]
    },
    {
     "name": "stdout",
     "output_type": "stream",
     "text": [
      "episode:  36500 Evaluation Average Reward: -4.06\n"
     ]
    },
    {
     "name": "stderr",
     "output_type": "stream",
     "text": [
      " 74%|███████▍  | 37001/50000 [1:35:02<58:53,  3.68it/s]  "
     ]
    },
    {
     "name": "stdout",
     "output_type": "stream",
     "text": [
      "episode:  37000 Evaluation Average Reward: -3.32\n"
     ]
    },
    {
     "name": "stderr",
     "output_type": "stream",
     "text": [
      " 75%|███████▌  | 37502/50000 [1:36:27<38:25,  5.42it/s]  "
     ]
    },
    {
     "name": "stdout",
     "output_type": "stream",
     "text": [
      "episode:  37500 Evaluation Average Reward: -1.92\n"
     ]
    },
    {
     "name": "stderr",
     "output_type": "stream",
     "text": [
      " 76%|███████▌  | 38001/50000 [1:37:50<52:16,  3.83it/s]"
     ]
    },
    {
     "name": "stdout",
     "output_type": "stream",
     "text": [
      "episode:  38000 Evaluation Average Reward: -2.64\n"
     ]
    },
    {
     "name": "stderr",
     "output_type": "stream",
     "text": [
      " 77%|███████▋  | 38501/50000 [1:39:08<29:15,  6.55it/s]"
     ]
    },
    {
     "name": "stdout",
     "output_type": "stream",
     "text": [
      "episode:  38500 Evaluation Average Reward: -4.04\n"
     ]
    },
    {
     "name": "stderr",
     "output_type": "stream",
     "text": [
      " 78%|███████▊  | 39001/50000 [1:40:28<34:58,  5.24it/s]"
     ]
    },
    {
     "name": "stdout",
     "output_type": "stream",
     "text": [
      "episode:  39000 Evaluation Average Reward: -4.01\n"
     ]
    },
    {
     "name": "stderr",
     "output_type": "stream",
     "text": [
      " 79%|███████▉  | 39501/50000 [1:41:49<30:20,  5.77it/s]"
     ]
    },
    {
     "name": "stdout",
     "output_type": "stream",
     "text": [
      "episode:  39500 Evaluation Average Reward: -2.74\n"
     ]
    },
    {
     "name": "stderr",
     "output_type": "stream",
     "text": [
      " 80%|████████  | 40001/50000 [1:43:06<18:40,  8.92it/s]"
     ]
    },
    {
     "name": "stdout",
     "output_type": "stream",
     "text": [
      "episode:  40000 Evaluation Average Reward: -1.54\n"
     ]
    },
    {
     "name": "stderr",
     "output_type": "stream",
     "text": [
      " 81%|████████  | 40501/50000 [1:44:23<31:25,  5.04it/s]"
     ]
    },
    {
     "name": "stdout",
     "output_type": "stream",
     "text": [
      "episode:  40500 Evaluation Average Reward: -2.69\n"
     ]
    },
    {
     "name": "stderr",
     "output_type": "stream",
     "text": [
      " 82%|████████▏ | 41001/50000 [1:45:37<34:42,  4.32it/s]"
     ]
    },
    {
     "name": "stdout",
     "output_type": "stream",
     "text": [
      "episode:  41000 Evaluation Average Reward: -2.68\n"
     ]
    },
    {
     "name": "stderr",
     "output_type": "stream",
     "text": [
      " 83%|████████▎ | 41501/50000 [1:46:55<25:28,  5.56it/s]"
     ]
    },
    {
     "name": "stdout",
     "output_type": "stream",
     "text": [
      "episode:  41500 Evaluation Average Reward: -4.11\n"
     ]
    },
    {
     "name": "stderr",
     "output_type": "stream",
     "text": [
      " 84%|████████▍ | 42002/50000 [1:48:09<21:41,  6.15it/s]"
     ]
    },
    {
     "name": "stdout",
     "output_type": "stream",
     "text": [
      "episode:  42000 Evaluation Average Reward: -2.42\n"
     ]
    },
    {
     "name": "stderr",
     "output_type": "stream",
     "text": [
      " 85%|████████▌ | 42501/50000 [1:49:17<19:54,  6.28it/s]"
     ]
    },
    {
     "name": "stdout",
     "output_type": "stream",
     "text": [
      "episode:  42500 Evaluation Average Reward: -2.39\n"
     ]
    },
    {
     "name": "stderr",
     "output_type": "stream",
     "text": [
      " 86%|████████▌ | 43003/50000 [1:50:29<15:48,  7.38it/s]"
     ]
    },
    {
     "name": "stdout",
     "output_type": "stream",
     "text": [
      "episode:  43000 Evaluation Average Reward: -2.26\n"
     ]
    },
    {
     "name": "stderr",
     "output_type": "stream",
     "text": [
      " 87%|████████▋ | 43503/50000 [1:51:40<17:51,  6.06it/s]"
     ]
    },
    {
     "name": "stdout",
     "output_type": "stream",
     "text": [
      "episode:  43500 Evaluation Average Reward: -3.94\n"
     ]
    },
    {
     "name": "stderr",
     "output_type": "stream",
     "text": [
      " 88%|████████▊ | 44001/50000 [1:52:47<18:36,  5.37it/s]"
     ]
    },
    {
     "name": "stdout",
     "output_type": "stream",
     "text": [
      "episode:  44000 Evaluation Average Reward: -2.94\n"
     ]
    },
    {
     "name": "stderr",
     "output_type": "stream",
     "text": [
      " 89%|████████▉ | 44501/50000 [1:53:57<13:25,  6.83it/s]"
     ]
    },
    {
     "name": "stdout",
     "output_type": "stream",
     "text": [
      "episode:  44500 Evaluation Average Reward: -2.26\n"
     ]
    },
    {
     "name": "stderr",
     "output_type": "stream",
     "text": [
      " 90%|█████████ | 45001/50000 [1:55:07<19:44,  4.22it/s]"
     ]
    },
    {
     "name": "stdout",
     "output_type": "stream",
     "text": [
      "episode:  45000 Evaluation Average Reward: -1.85\n"
     ]
    },
    {
     "name": "stderr",
     "output_type": "stream",
     "text": [
      " 91%|█████████ | 45501/50000 [1:56:12<12:04,  6.21it/s]"
     ]
    },
    {
     "name": "stdout",
     "output_type": "stream",
     "text": [
      "episode:  45500 Evaluation Average Reward: -2.69\n"
     ]
    },
    {
     "name": "stderr",
     "output_type": "stream",
     "text": [
      " 92%|█████████▏| 46001/50000 [1:57:16<14:25,  4.62it/s]"
     ]
    },
    {
     "name": "stdout",
     "output_type": "stream",
     "text": [
      "episode:  46000 Evaluation Average Reward: -2.57\n"
     ]
    },
    {
     "name": "stderr",
     "output_type": "stream",
     "text": [
      " 93%|█████████▎| 46501/50000 [1:58:18<09:46,  5.97it/s]"
     ]
    },
    {
     "name": "stdout",
     "output_type": "stream",
     "text": [
      "episode:  46500 Evaluation Average Reward: -3.12\n"
     ]
    },
    {
     "name": "stderr",
     "output_type": "stream",
     "text": [
      " 94%|█████████▍| 47001/50000 [1:59:19<07:15,  6.89it/s]"
     ]
    },
    {
     "name": "stdout",
     "output_type": "stream",
     "text": [
      "episode:  47000 Evaluation Average Reward: -2.01\n"
     ]
    },
    {
     "name": "stderr",
     "output_type": "stream",
     "text": [
      " 95%|█████████▌| 47501/50000 [2:00:23<05:25,  7.68it/s]"
     ]
    },
    {
     "name": "stdout",
     "output_type": "stream",
     "text": [
      "episode:  47500 Evaluation Average Reward: -2.8\n"
     ]
    },
    {
     "name": "stderr",
     "output_type": "stream",
     "text": [
      " 96%|█████████▌| 48001/50000 [2:01:29<05:05,  6.54it/s]"
     ]
    },
    {
     "name": "stdout",
     "output_type": "stream",
     "text": [
      "episode:  48000 Evaluation Average Reward: -0.99\n"
     ]
    },
    {
     "name": "stderr",
     "output_type": "stream",
     "text": [
      " 97%|█████████▋| 48501/50000 [2:02:25<03:59,  6.25it/s]"
     ]
    },
    {
     "name": "stdout",
     "output_type": "stream",
     "text": [
      "episode:  48500 Evaluation Average Reward: -3.39\n"
     ]
    },
    {
     "name": "stderr",
     "output_type": "stream",
     "text": [
      " 98%|█████████▊| 49003/50000 [2:03:29<01:43,  9.66it/s]"
     ]
    },
    {
     "name": "stdout",
     "output_type": "stream",
     "text": [
      "episode:  49000 Evaluation Average Reward: 0.07\n"
     ]
    },
    {
     "name": "stderr",
     "output_type": "stream",
     "text": [
      " 99%|█████████▉| 49501/50000 [2:04:31<01:09,  7.15it/s]"
     ]
    },
    {
     "name": "stdout",
     "output_type": "stream",
     "text": [
      "episode:  49500 Evaluation Average Reward: -1.34\n"
     ]
    },
    {
     "name": "stderr",
     "output_type": "stream",
     "text": [
      "100%|██████████| 50000/50000 [2:05:32<00:00,  6.56it/s]\n"
     ]
    }
   ],
   "source": [
    "EPISODE = 5*10000\n",
    "all_episode += EPISODE\n",
    "for episode in trange(EPISODE):\n",
    "\n",
    "    # Train\n",
    "    state = env.reset()\n",
    "    for step in xrange(STEP):\n",
    "        action = agent.egreedy_action(state) # e-greedy action for train\n",
    "        next_state,reward,done,_ = env.step(action)\n",
    "        agent.perceive(state,action,reward,next_state,done)\n",
    "        state = next_state\n",
    "        if done:\n",
    "            break\n",
    "\n",
    "    # Test\n",
    "    if (episode % 100) == 0:\n",
    "        total_reward = 0\n",
    "        for i in xrange(TEST):\n",
    "            state = env.reset()\n",
    "            for j in xrange(STEP):\n",
    "                action = agent.action(state) # direct action for test\n",
    "                state,reward,done,_ = env.step(action)\n",
    "                total_reward += reward\n",
    "                if done:\n",
    "                    break\n",
    "        ave_reward = total_reward/TEST\n",
    "        \n",
    "        all_reward.append( ave_reward )\n",
    "        if (episode % (EPISODE//100)) == 0:\n",
    "            print 'episode: ',episode,'Evaluation Average Reward:',ave_reward"
   ]
  },
  {
   "cell_type": "code",
   "execution_count": 4,
   "metadata": {
    "collapsed": false,
    "deletable": true,
    "editable": true
   },
   "outputs": [
    {
     "name": "stdout",
     "output_type": "stream",
     "text": [
      "50000 500\n"
     ]
    }
   ],
   "source": [
    "print all_episode, len(all_reward)"
   ]
  },
  {
   "cell_type": "code",
   "execution_count": 5,
   "metadata": {
    "collapsed": true,
    "deletable": true,
    "editable": true
   },
   "outputs": [],
   "source": [
    "import numpy as np\n",
    "\n",
    "%matplotlib inline\n",
    "import matplotlib.pyplot as plt"
   ]
  },
  {
   "cell_type": "code",
   "execution_count": 6,
   "metadata": {
    "collapsed": false,
    "deletable": true,
    "editable": true
   },
   "outputs": [
    {
     "data": {
      "image/png": "[encoded data removed]",
      "text/plain": [
       "<matplotlib.figure.Figure at 0x7f2cdeb210d0>"
      ]
     },
     "metadata": {},
     "output_type": "display_data"
    }
   ],
   "source": [
    "fig = plt.figure()\n",
    "ax = fig.add_subplot(111)\n",
    "# ax.plot([1, 2, 3, 4], [10, 20, 25, 30], color='lightblue', linewidth=3) # plot line\n",
    "ax.scatter(range(len(all_reward)), all_reward, color='green', marker='^') # plot points\n",
    "# ax.set_xlim(0.5, 4.5)\n",
    "plt.show()"
   ]
  },
  {
   "cell_type": "code",
   "execution_count": null,
   "metadata": {
    "collapsed": true,
    "deletable": true,
    "editable": true
   },
   "outputs": [],
   "source": []
  }
 ],
 "metadata": {
  "kernelspec": {
   "display_name": "Python 2",
   "language": "python",
   "name": "python2"
  },
  "language_info": {
   "codemirror_mode": {
    "name": "ipython",
    "version": 2
   },
   "file_extension": ".py",
   "mimetype": "text/x-python",
   "name": "python",
   "nbconvert_exporter": "python",
   "pygments_lexer": "ipython2",
   "version": "2.7.13"
  }
 },
 "nbformat": 4,
 "nbformat_minor": 2
}
