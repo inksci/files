{
 "cells": [
  {
   "cell_type": "code",
   "execution_count": 1,
   "metadata": {
    "collapsed": true
   },
   "outputs": [],
   "source": [
    "import numpy as np"
   ]
  },
  {
   "cell_type": "code",
   "execution_count": null,
   "metadata": {
    "collapsed": true
   },
   "outputs": [],
   "source": []
  },
  {
   "cell_type": "code",
   "execution_count": 11,
   "metadata": {},
   "outputs": [],
   "source": [
    "def dis_point_line(p, l):\n",
    "    A = np.array( p )\n",
    "    B = np.array( l )\n",
    "    # The distance from point A and line B\n",
    "    # line B has limited length with two fixed end-points\n",
    "    a = B[0]\n",
    "    b = B[1]\n",
    "    ba = a-b\n",
    "    bA = A-b\n",
    "    d = np.linalg.norm(np.cross(ba,bA))/np.linalg.norm(ba)\n",
    "    if (np.dot(ba, bA) > 0) & (np.dot( (b-a), bA ) > 0):\n",
    "        return np.min( [np.linalg.norm(A-B[0]), np.linalg.norm(A-B[1]), d] )\n",
    "    else:\n",
    "        return np.min( [np.linalg.norm(A-B[0]), np.linalg.norm(A-B[1])] )"
   ]
  },
  {
   "cell_type": "code",
   "execution_count": 12,
   "metadata": {},
   "outputs": [
    {
     "data": {
      "text/plain": [
       "1.7320508075688772"
      ]
     },
     "execution_count": 12,
     "metadata": {},
     "output_type": "execute_result"
    }
   ],
   "source": [
    "dis_point_line(l=[[2,3,4],[3,4,5]], p=[1,2,3])"
   ]
  },
  {
   "cell_type": "code",
   "execution_count": null,
   "metadata": {
    "collapsed": true
   },
   "outputs": [],
   "source": []
  },
  {
   "cell_type": "code",
   "execution_count": 13,
   "metadata": {},
   "outputs": [],
   "source": [
    "def dis_point_curve(p, c):\n",
    "    \n",
    "    A = np.array( p )\n",
    "    B = np.array( c )\n",
    "    # the closest distance between point A and curve B\n",
    "    # curve B is described by 10 points.\n",
    "    \n",
    "    # NOTICE: when the curve is too winding, there might be some problems.\n",
    "    # because we only consider the two points within B which are most close to point A\n",
    "    \n",
    "    C = []\n",
    "    \n",
    "    i_min = np.argmin( np.linalg.norm( B-A, axis = 1 ) )    \n",
    "    C.append( B[i_min] )\n",
    "    # B = np.delete(B,i_min,axis=0) # will make error\n",
    "    B2 = np.delete(B,i_min,axis=0)\n",
    "    \n",
    "    i_min = np.argmin( np.linalg.norm( B2-A, axis = 1 ) )    \n",
    "    C.append( B2[i_min] )\n",
    "        \n",
    "    return dis_point_line(p=A, l=np.array( C ))"
   ]
  },
  {
   "cell_type": "code",
   "execution_count": 14,
   "metadata": {},
   "outputs": [],
   "source": [
    "A = [1,2,3]\n",
    "B = np.random.rand( 10,3 )*10"
   ]
  },
  {
   "cell_type": "code",
   "execution_count": 15,
   "metadata": {},
   "outputs": [
    {
     "data": {
      "text/plain": [
       "1.7422990205996183"
      ]
     },
     "execution_count": 15,
     "metadata": {},
     "output_type": "execute_result"
    }
   ],
   "source": [
    "dis_point_curve(p=A, c=B)"
   ]
  },
  {
   "cell_type": "code",
   "execution_count": null,
   "metadata": {
    "collapsed": true
   },
   "outputs": [],
   "source": []
  }
 ],
 "metadata": {
  "kernelspec": {
   "display_name": "Python 3",
   "language": "python",
   "name": "python3"
  },
  "language_info": {
   "codemirror_mode": {
    "name": "ipython",
    "version": 3
   },
   "file_extension": ".py",
   "mimetype": "text/x-python",
   "name": "python",
   "nbconvert_exporter": "python",
   "pygments_lexer": "ipython3",
   "version": "3.5.2"
  }
 },
 "nbformat": 4,
 "nbformat_minor": 2
}
